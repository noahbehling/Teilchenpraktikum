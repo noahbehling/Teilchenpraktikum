{
 "cells": [
  {
   "cell_type": "markdown",
   "metadata": {},
   "source": [
    "# Analyse der Nobelpreis Gewinner"
   ]
  },
  {
   "cell_type": "markdown",
   "metadata": {},
   "source": [
    "In diesem Notebook wird eine beispielhafte Analyse der Nobelpreis Gewinner durchgeführt. Die verwendeten Techniken und Kommandos sind denen sehr ähnlich, die ihr für die Durchführung des Versuchs benötigt.\n",
    "\n",
    "\n",
    "**Wichtig:** Jede Code Box muss seperat ausgewählt und durch \"shift+enter\" ausgeführt werden. Auf die selbe Weise führt ihr auch euren eigenen Code aus.\n",
    "Wenn `In [x]:` durch `In [*]:` ersetzt wird, bedeutet dies, dass der Code der entsprechenden Box gerade läuft."
   ]
  },
  {
   "cell_type": "markdown",
   "metadata": {},
   "source": [
    "Als erstes werden die benötigten Bibliotheken geladen und die Daten eingelesen."
   ]
  },
  {
   "cell_type": "code",
   "execution_count": 1,
   "metadata": {
    "run_control": {
     "frozen": false,
     "read_only": false
    }
   },
   "outputs": [
    {
     "name": "stdout",
     "output_type": "stream",
     "text": [
      "Populating the interactive namespace from numpy and matplotlib\n",
      "Welcome to JupyROOT 6.16/00\n"
     ]
    }
   ],
   "source": [
    "from __future__ import print_function\n",
    "from __future__ import division\n",
    "\n",
    "%pylab inline\n",
    "# Setup the notebook and download the data\n",
    "\n",
    "import functools\n",
    "import hashlib\n",
    "import os\n",
    "import warnings\n",
    "from subprocess import check_output\n",
    "\n",
    "import numpy\n",
    "from ipywidgets import interact\n",
    "import pandas\n",
    "from root_pandas import read_root\n",
    "from scipy import stats as st\n",
    "from matplotlib import pyplot as plt\n",
    "\n",
    "\n",
    "warnings.filterwarnings(\"ignore\")\n",
    "rcParams['image.cmap'] = 'Blues'  # change default colormap\n",
    "pandas.set_option('display.max_columns', None)\n",
    "\n",
    "def parse_year(s):\n",
    "    try:\n",
    "        if s[-3] == '-':\n",
    "            return int('19' + s[-2:])\n",
    "        elif s[-4:] == 'Data':   # If there is a value of no data set the age to something\n",
    "            return 1000          # Large that we can filter later\n",
    "        else:\n",
    "            return int(s[-4:])\n",
    "    except Exception:\n",
    "        return 1000\n",
    "\n",
    "data = pandas.read_csv('C:\\Users\\MrJowhn\\Desktop\\Uni\\Schwerpunktspraktikum Teilchenphysik\\Notebook', ',')\n",
    "data['BirthYear'] = data['Birthdate'].apply(parse_year)\n",
    "data = data.query('BirthYear > 1000')"
   ]
  },
  {
   "cell_type": "markdown",
   "metadata": {},
   "source": [
    "Jetzt werden die ersten Zeilen der Daten Tabelle betrachtet. Die Zeilen beinhalten jeweils einen vergebenen Nobelpreis. Die Spalten enthalten Informationen über den jeweiligen Gewinner.\n",
    "\n",
    "Die Daten befinden sich einem Pandas DataFrame. Daher können alle damit verknüpften Funktionen verwendet werden. Eine nützliche Funktion ist `.head()`, diese Funktion gibt die ersten zeilen der Daten Tabelle aus."
   ]
  },
  {
   "cell_type": "code",
   "execution_count": 2,
   "metadata": {
    "run_control": {
     "frozen": false,
     "read_only": false
    }
   },
   "outputs": [
    {
     "data": {
      "text/html": [
       "<div>\n",
       "<style scoped>\n",
       "    .dataframe tbody tr th:only-of-type {\n",
       "        vertical-align: middle;\n",
       "    }\n",
       "\n",
       "    .dataframe tbody tr th {\n",
       "        vertical-align: top;\n",
       "    }\n",
       "\n",
       "    .dataframe thead th {\n",
       "        text-align: right;\n",
       "    }\n",
       "</style>\n",
       "<table border=\"1\" class=\"dataframe\">\n",
       "  <thead>\n",
       "    <tr style=\"text-align: right;\">\n",
       "      <th></th>\n",
       "      <th>Year</th>\n",
       "      <th>Category</th>\n",
       "      <th>Name</th>\n",
       "      <th>Birthdate</th>\n",
       "      <th>Birth Place</th>\n",
       "      <th>County</th>\n",
       "      <th>Residence</th>\n",
       "      <th>Role/Affiliate</th>\n",
       "      <th>Field/Language</th>\n",
       "      <th>Prize Name</th>\n",
       "      <th>Motivation</th>\n",
       "      <th>BirthYear</th>\n",
       "    </tr>\n",
       "  </thead>\n",
       "  <tbody>\n",
       "    <tr>\n",
       "      <th>0</th>\n",
       "      <td>1901</td>\n",
       "      <td>chemistry</td>\n",
       "      <td>Jacobus Henricus van 't Hoff</td>\n",
       "      <td>30 August 1852</td>\n",
       "      <td>Rotterdam</td>\n",
       "      <td>the Netherlands</td>\n",
       "      <td>No Data</td>\n",
       "      <td>Berlin University, Berlin, Germany</td>\n",
       "      <td>Physical chemistry, chemical kinetics</td>\n",
       "      <td>The Nobel Prize in Chemistry</td>\n",
       "      <td>The Nobel Prize in Chemistry 1901 was awarded ...</td>\n",
       "      <td>1852</td>\n",
       "    </tr>\n",
       "    <tr>\n",
       "      <th>1</th>\n",
       "      <td>1901</td>\n",
       "      <td>literature</td>\n",
       "      <td>Sully Prudhomme</td>\n",
       "      <td>16 March 1839</td>\n",
       "      <td>Paris</td>\n",
       "      <td>France</td>\n",
       "      <td>France</td>\n",
       "      <td>No Data</td>\n",
       "      <td>French</td>\n",
       "      <td>The Nobel Prize in Literature</td>\n",
       "      <td>The Nobel Prize in Literature 1901 was awarded...</td>\n",
       "      <td>1839</td>\n",
       "    </tr>\n",
       "    <tr>\n",
       "      <th>2</th>\n",
       "      <td>1901</td>\n",
       "      <td>medicine</td>\n",
       "      <td>Emil Adolf von Behring</td>\n",
       "      <td>15 March 1854</td>\n",
       "      <td>Hansdorf (now Jankowa ?aga?ska)</td>\n",
       "      <td>Prussia (now Poland)</td>\n",
       "      <td>No Data</td>\n",
       "      <td>Marburg University, Marburg, Germany</td>\n",
       "      <td>No Data</td>\n",
       "      <td>The Nobel Prize in Physiology or Medicine</td>\n",
       "      <td>The Nobel Prize in Physiology or Medicine 1901...</td>\n",
       "      <td>1854</td>\n",
       "    </tr>\n",
       "    <tr>\n",
       "      <th>3</th>\n",
       "      <td>1901</td>\n",
       "      <td>peace</td>\n",
       "      <td>Frédéric Passy</td>\n",
       "      <td>20 May 1822</td>\n",
       "      <td>Paris</td>\n",
       "      <td>France</td>\n",
       "      <td>France</td>\n",
       "      <td>Founder and President of first French peace s...</td>\n",
       "      <td>Humanitarian work, peace movement</td>\n",
       "      <td>The Nobel Peace Prize</td>\n",
       "      <td>The Nobel Peace Prize 1901 was awarded jointly...</td>\n",
       "      <td>1822</td>\n",
       "    </tr>\n",
       "    <tr>\n",
       "      <th>4</th>\n",
       "      <td>1901</td>\n",
       "      <td>peace</td>\n",
       "      <td>Jean Henry Dunant</td>\n",
       "      <td>8 May 1828</td>\n",
       "      <td>Geneva</td>\n",
       "      <td>Switzerland</td>\n",
       "      <td>Switzerland</td>\n",
       "      <td>Originator Geneva Convention (Convention de G...</td>\n",
       "      <td>Humanitarian work, peace movement</td>\n",
       "      <td>The Nobel Peace Prize</td>\n",
       "      <td>The Nobel Peace Prize 1901 was awarded jointly...</td>\n",
       "      <td>1828</td>\n",
       "    </tr>\n",
       "  </tbody>\n",
       "</table>\n",
       "</div>"
      ],
      "text/plain": [
       "   Year    Category                          Name       Birthdate  \\\n",
       "0  1901   chemistry  Jacobus Henricus van 't Hoff  30 August 1852   \n",
       "1  1901  literature               Sully Prudhomme   16 March 1839   \n",
       "2  1901    medicine        Emil Adolf von Behring   15 March 1854   \n",
       "3  1901       peace                Frédéric Passy     20 May 1822   \n",
       "4  1901       peace             Jean Henry Dunant      8 May 1828   \n",
       "\n",
       "                       Birth Place                County    Residence  \\\n",
       "0                        Rotterdam       the Netherlands      No Data   \n",
       "1                            Paris                France       France   \n",
       "2  Hansdorf (now Jankowa ?aga?ska)  Prussia (now Poland)      No Data   \n",
       "3                            Paris                France       France   \n",
       "4                           Geneva           Switzerland  Switzerland   \n",
       "\n",
       "                                      Role/Affiliate  \\\n",
       "0                 Berlin University, Berlin, Germany   \n",
       "1                                            No Data   \n",
       "2               Marburg University, Marburg, Germany   \n",
       "3   Founder and President of first French peace s...   \n",
       "4   Originator Geneva Convention (Convention de G...   \n",
       "\n",
       "                           Field/Language  \\\n",
       "0   Physical chemistry, chemical kinetics   \n",
       "1                                  French   \n",
       "2                                 No Data   \n",
       "3       Humanitarian work, peace movement   \n",
       "4       Humanitarian work, peace movement   \n",
       "\n",
       "                                  Prize Name  \\\n",
       "0               The Nobel Prize in Chemistry   \n",
       "1              The Nobel Prize in Literature   \n",
       "2  The Nobel Prize in Physiology or Medicine   \n",
       "3                      The Nobel Peace Prize   \n",
       "4                      The Nobel Peace Prize   \n",
       "\n",
       "                                          Motivation  BirthYear  \n",
       "0  The Nobel Prize in Chemistry 1901 was awarded ...       1852  \n",
       "1  The Nobel Prize in Literature 1901 was awarded...       1839  \n",
       "2  The Nobel Prize in Physiology or Medicine 1901...       1854  \n",
       "3  The Nobel Peace Prize 1901 was awarded jointly...       1822  \n",
       "4  The Nobel Peace Prize 1901 was awarded jointly...       1828  "
      ]
     },
     "execution_count": 2,
     "metadata": {},
     "output_type": "execute_result"
    }
   ],
   "source": [
    "data.head(5) # Displaying some of the data so you can see what form it takes in the DataFrame"
   ]
  },
  {
   "cell_type": "markdown",
   "metadata": {},
   "source": [
    "# Erstellen eines Histogrammes"
   ]
  },
  {
   "cell_type": "markdown",
   "metadata": {},
   "source": [
    "Hier wird die Anzahl der in jedem Jahr vergebenen Preise geplottet. Nobelpreise können in jeder Kategorie an biszu drei Personen pro Jahr vergeben werden. Da es für jeden einzelen Gewinner einen seperaten Eintrag in den Daten gibt, kann man aus dem Histogramm lesen, ob es einen ab- oder zunehmenden Trend bei der Vergabe des Preises an multiple Gewinner gibt.\n",
    "\n",
    "Im Vorhinein ist es jedoch sinnvoll Informationen über die Daten zu gewinnen. Daher wird jetzt der Wertebereich der zu plottenden Daten untersucht."
   ]
  },
  {
   "cell_type": "code",
   "execution_count": 3,
   "metadata": {
    "run_control": {
     "frozen": false,
     "read_only": false
    }
   },
   "outputs": [
    {
     "name": "stdout",
     "output_type": "stream",
     "text": [
      "1901\n"
     ]
    }
   ],
   "source": [
    "# print the earliest year in the data\n",
    "print(data.Year.min())"
   ]
  },
  {
   "cell_type": "code",
   "execution_count": 4,
   "metadata": {
    "run_control": {
     "frozen": false,
     "read_only": false
    }
   },
   "outputs": [
    {
     "name": "stdout",
     "output_type": "stream",
     "text": [
      "2010\n"
     ]
    }
   ],
   "source": [
    "# print the latest year in the data\n",
    "print(data.Year.max())"
   ]
  },
  {
   "cell_type": "markdown",
   "metadata": {},
   "source": [
    "Die Daten enthalten auch Einträge für Economie. Economie war keiner der ursprünglichen Nobelpreise und wrd erst seid 1969 vergeben. Wenn wir nun einen fairen Vergleich haben wollen, müssen wir diese Preise aussortieren. Dies kann mit Hilfe einer Pandas query tun.\n",
    "\n",
    "Ob noch Economie Preise vorhanden sind, kann mit der Länge des Datensatzes  (`len`) für Economie Preise  testen, nachdem die Query angewandt worden ist. Dies kann auch in dem Versuch verwendet werden um die Zahl an $B^+$ und $B^-$ Mesonen zu bestimmen."
   ]
  },
  {
   "cell_type": "code",
   "execution_count": 5,
   "metadata": {},
   "outputs": [
    {
     "name": "stdout",
     "output_type": "stream",
     "text": [
      "Number of economics prizes in \"data_without_economics\":\n",
      "0\n"
     ]
    }
   ],
   "source": [
    "# filter out the Economics prizes from the data\n",
    "data_without_economics = data.query(\"Category != 'economics'\")\n",
    "print('Number of economics prizes in \"data_without_economics\":')\n",
    "print(len(data_without_economics.query(\"Category == 'economics'\")))"
   ]
  },
  {
   "cell_type": "markdown",
   "metadata": {},
   "source": [
    "Jetzt kann ein Histogramm über einen sinnvollen Bereich mit Hilfe der `hist` Funktion von `matplotlib` geplottet werden. Diese Funktion werdet ihr öfter während des Versuch verwenden müssen."
   ]
  },
  {
   "cell_type": "code",
   "execution_count": 6,
   "metadata": {
    "run_control": {
     "frozen": false,
     "read_only": false
    }
   },
   "outputs": [
    {
     "data": {
      "text/plain": [
       "Text(0, 0.5, 'Number of Winners')"
      ]
     },
     "execution_count": 6,
     "metadata": {},
     "output_type": "execute_result"
    },
    {
     "data": {
      "image/png": "[encoded data removed]",
      "text/plain": [
       "<Figure size 432x288 with 1 Axes>"
      ]
     },
     "metadata": {
      "needs_background": "light"
     },
     "output_type": "display_data"
    }
   ],
   "source": [
    "# plot the histogram of number of winners against year\n",
    "H_WinnersPerYear = data_without_economics.Year.hist(bins=11, range=[1900, 2010]) \n",
    "xlabel('Year')\n",
    "ylabel('Number of Winners')"
   ]
  },
  {
   "cell_type": "markdown",
   "metadata": {},
   "source": [
    "Aus dem Histogramm ist zu erkennen, dass es einen Trend zu mehr Gewinnern pro Jahr gibt. Dennoch ist ein Einbruch im Bereich von 1940 - 1950 zu erkennen. Dies ist durch das Aussetzen der Vergabe einiger Preise während des 2ten Weltkrieges bedingt. Um diese Lücke zu isolieren kann das Binning angepasst werden."
   ]
  },
  {
   "cell_type": "code",
   "execution_count": 7,
   "metadata": {
    "run_control": {
     "frozen": false,
     "read_only": false
    },
    "scrolled": true
   },
   "outputs": [
    {
     "name": "stdout",
     "output_type": "stream",
     "text": [
      "30.0\n"
     ]
    },
    {
     "data": {
      "image/png": "[encoded data removed]",
      "text/plain": [
       "<Figure size 432x288 with 1 Axes>"
      ]
     },
     "metadata": {
      "needs_background": "light"
     },
     "output_type": "display_data"
    },
    {
     "data": {
      "text/plain": [
       "<function __main__.plot_hist(bins)>"
      ]
     },
     "execution_count": 7,
     "metadata": {},
     "output_type": "execute_result"
    }
   ],
   "source": [
    "def plot_hist(bins): \n",
    "    changingBins = data_without_economics.Year.hist(bins=bins, range=[1900,2010])\n",
    "    xlabel('Year')\n",
    "    ylabel('Number of People Given Prizes')\n",
    "    BinSize = round(60/bins, 2)\n",
    "    print(BinSize)\n",
    "\n",
    "interact(plot_hist, bins=[2, 50, 1])"
   ]
  },
  {
   "cell_type": "markdown",
   "metadata": {},
   "source": [
    "## Vorselektion"
   ]
  },
  {
   "cell_type": "markdown",
   "metadata": {},
   "source": [
    "Jetzt sollen die Daten selektiert werden. Dies ist das selbe Vorgehen, wie das Aussortieren des Economie Preises. Jetzt wird dies jedoch detailierter  betrachtet. Dabei sollen diesmal alle Kategorien außer Physik aussortiert werden. Dies könnte durch das Erstellen eines neuen Datasets unter Verwendung von Bedingungen und Schleifen aus dem ursprünglichen Dataset geschehen. Die Pandas Funktion `.query()`ermöglicht jedoch eine einfachere Möglichkeit. Durch in einem String festgelegte Bedingungen wird ein neues Dataframe erstellt, in dem alle Einträge die Bedingungen erfüllen."
   ]
  },
  {
   "cell_type": "code",
   "execution_count": 8,
   "metadata": {
    "collapsed": true,
    "run_control": {
     "frozen": false,
     "read_only": false
    }
   },
   "outputs": [],
   "source": [
    "modernPhysics = \"(Category == 'physics' && Year > 2005)\" # Integer values don't go inside quotes\n",
    "physicsOnly = \"(Category == 'physics')\"\n",
    "# apply the physicsOnly query\n",
    "physicsOnlyDataFrame = data.query(physicsOnly)"
   ]
  },
  {
   "cell_type": "markdown",
   "metadata": {},
   "source": [
    "Jetzt können die neuen Datframes untersucht werden."
   ]
  },
  {
   "cell_type": "code",
   "execution_count": 9,
   "metadata": {
    "run_control": {
     "frozen": false,
     "read_only": false
    }
   },
   "outputs": [
    {
     "data": {
      "text/html": [
       "<div>\n",
       "<style scoped>\n",
       "    .dataframe tbody tr th:only-of-type {\n",
       "        vertical-align: middle;\n",
       "    }\n",
       "\n",
       "    .dataframe tbody tr th {\n",
       "        vertical-align: top;\n",
       "    }\n",
       "\n",
       "    .dataframe thead th {\n",
       "        text-align: right;\n",
       "    }\n",
       "</style>\n",
       "<table border=\"1\" class=\"dataframe\">\n",
       "  <thead>\n",
       "    <tr style=\"text-align: right;\">\n",
       "      <th></th>\n",
       "      <th>Year</th>\n",
       "      <th>Category</th>\n",
       "      <th>Name</th>\n",
       "      <th>Birthdate</th>\n",
       "      <th>Birth Place</th>\n",
       "      <th>County</th>\n",
       "      <th>Residence</th>\n",
       "      <th>Role/Affiliate</th>\n",
       "      <th>Field/Language</th>\n",
       "      <th>Prize Name</th>\n",
       "      <th>Motivation</th>\n",
       "      <th>BirthYear</th>\n",
       "    </tr>\n",
       "  </thead>\n",
       "  <tbody>\n",
       "    <tr>\n",
       "      <th>5</th>\n",
       "      <td>1901</td>\n",
       "      <td>physics</td>\n",
       "      <td>Wilhelm Conrad Röntgen</td>\n",
       "      <td>27 March 1845</td>\n",
       "      <td>Lennep (now Remscheid)</td>\n",
       "      <td>Prussia (now Germany)</td>\n",
       "      <td>No Data</td>\n",
       "      <td>Munich University, Munich, Germany</td>\n",
       "      <td>X-rays, atomic physics</td>\n",
       "      <td>The Nobel Prize in Physics</td>\n",
       "      <td>The Nobel Prize in Physics 1901 was awarded to...</td>\n",
       "      <td>1845</td>\n",
       "    </tr>\n",
       "    <tr>\n",
       "      <th>11</th>\n",
       "      <td>1902</td>\n",
       "      <td>physics</td>\n",
       "      <td>Hendrik Antoon Lorentz</td>\n",
       "      <td>18 July 1853</td>\n",
       "      <td>Arnhem</td>\n",
       "      <td>the Netherlands</td>\n",
       "      <td>No Data</td>\n",
       "      <td>Leiden University, Leiden, the Netherlands</td>\n",
       "      <td>Atomic physics, quantum physics</td>\n",
       "      <td>The Nobel Prize in Physics</td>\n",
       "      <td>The Nobel Prize in Physics 1902 was awarded jo...</td>\n",
       "      <td>1853</td>\n",
       "    </tr>\n",
       "    <tr>\n",
       "      <th>12</th>\n",
       "      <td>1902</td>\n",
       "      <td>physics</td>\n",
       "      <td>Pieter Zeeman</td>\n",
       "      <td>25 May 1865</td>\n",
       "      <td>Zonnemaire</td>\n",
       "      <td>the Netherlands</td>\n",
       "      <td>No Data</td>\n",
       "      <td>Amsterdam University, Amsterdam, the Netherlands</td>\n",
       "      <td>Atomic physics, quantum physics</td>\n",
       "      <td>The Nobel Prize in Physics</td>\n",
       "      <td>The Nobel Prize in Physics 1902 was awarded jo...</td>\n",
       "      <td>1865</td>\n",
       "    </tr>\n",
       "    <tr>\n",
       "      <th>17</th>\n",
       "      <td>1903</td>\n",
       "      <td>physics</td>\n",
       "      <td>Antoine Henri Becquerel</td>\n",
       "      <td>15 December 1852</td>\n",
       "      <td>Paris</td>\n",
       "      <td>France</td>\n",
       "      <td>No Data</td>\n",
       "      <td>école Polytechnique, Paris, France</td>\n",
       "      <td>Nuclear physics</td>\n",
       "      <td>The Nobel Prize in Physics</td>\n",
       "      <td>The Nobel Prize in Physics 1903 was divided, o...</td>\n",
       "      <td>1852</td>\n",
       "    </tr>\n",
       "    <tr>\n",
       "      <th>18</th>\n",
       "      <td>1903</td>\n",
       "      <td>physics</td>\n",
       "      <td>Marie Curie, née Sklodowska</td>\n",
       "      <td>7 November 1867</td>\n",
       "      <td>Warsaw</td>\n",
       "      <td>Russian Empire (now Poland)</td>\n",
       "      <td>No Data</td>\n",
       "      <td>NaN</td>\n",
       "      <td>Nuclear physics</td>\n",
       "      <td>The Nobel Prize in Physics</td>\n",
       "      <td>The Nobel Prize in Physics 1903 was divided, o...</td>\n",
       "      <td>1867</td>\n",
       "    </tr>\n",
       "  </tbody>\n",
       "</table>\n",
       "</div>"
      ],
      "text/plain": [
       "    Year Category                         Name         Birthdate  \\\n",
       "5   1901  physics       Wilhelm Conrad Röntgen     27 March 1845   \n",
       "11  1902  physics       Hendrik Antoon Lorentz      18 July 1853   \n",
       "12  1902  physics                Pieter Zeeman       25 May 1865   \n",
       "17  1903  physics      Antoine Henri Becquerel  15 December 1852   \n",
       "18  1903  physics  Marie Curie, née Sklodowska   7 November 1867   \n",
       "\n",
       "               Birth Place                       County Residence  \\\n",
       "5   Lennep (now Remscheid)        Prussia (now Germany)   No Data   \n",
       "11                  Arnhem              the Netherlands   No Data   \n",
       "12              Zonnemaire              the Netherlands   No Data   \n",
       "17                   Paris                       France   No Data   \n",
       "18                  Warsaw  Russian Empire (now Poland)   No Data   \n",
       "\n",
       "                                       Role/Affiliate  \\\n",
       "5                  Munich University, Munich, Germany   \n",
       "11         Leiden University, Leiden, the Netherlands   \n",
       "12   Amsterdam University, Amsterdam, the Netherlands   \n",
       "17                 école Polytechnique, Paris, France   \n",
       "18                                                NaN   \n",
       "\n",
       "                      Field/Language                  Prize Name  \\\n",
       "5             X-rays, atomic physics  The Nobel Prize in Physics   \n",
       "11   Atomic physics, quantum physics  The Nobel Prize in Physics   \n",
       "12   Atomic physics, quantum physics  The Nobel Prize in Physics   \n",
       "17                   Nuclear physics  The Nobel Prize in Physics   \n",
       "18                   Nuclear physics  The Nobel Prize in Physics   \n",
       "\n",
       "                                           Motivation  BirthYear  \n",
       "5   The Nobel Prize in Physics 1901 was awarded to...       1845  \n",
       "11  The Nobel Prize in Physics 1902 was awarded jo...       1853  \n",
       "12  The Nobel Prize in Physics 1902 was awarded jo...       1865  \n",
       "17  The Nobel Prize in Physics 1903 was divided, o...       1852  \n",
       "18  The Nobel Prize in Physics 1903 was divided, o...       1867  "
      ]
     },
     "execution_count": 9,
     "metadata": {},
     "output_type": "execute_result"
    }
   ],
   "source": [
    "physicsOnlyDataFrame.head(5)"
   ]
  },
  {
   "cell_type": "markdown",
   "metadata": {
    "collapsed": true
   },
   "source": [
    "Diese Technik wird in dem Versuch hilfreich sein um die Kaonen zu selektieren. Jetzt wird die Zahl der Gewinner pro Jahr nur für Preise in Physik geplottet."
   ]
  },
  {
   "cell_type": "code",
   "execution_count": 10,
   "metadata": {
    "run_control": {
     "frozen": false,
     "read_only": false
    }
   },
   "outputs": [
    {
     "data": {
      "text/plain": [
       "Text(0, 0.5, 'Number of Winners in Physics')"
      ]
     },
     "execution_count": 10,
     "metadata": {},
     "output_type": "execute_result"
    },
    {
     "data": {
      "image/png": "[encoded data removed]",
      "text/plain": [
       "<Figure size 432x288 with 1 Axes>"
      ]
     },
     "metadata": {
      "needs_background": "light"
     },
     "output_type": "display_data"
    }
   ],
   "source": [
    "H_PhysicsWinnersPerYear = physicsOnlyDataFrame.Year.hist(bins=15, range=[1920,2010])\n",
    "xlabel('Year') #Plot an x label\n",
    "ylabel('Number of Winners in Physics') #Plot a y label"
   ]
  },
  {
   "cell_type": "markdown",
   "metadata": {},
   "source": [
    "# Scatter Plots und 2D Histogramme\n",
    "### Hinzufügen neuer Informationen zu dem Dataframe"
   ]
  },
  {
   "cell_type": "markdown",
   "metadata": {},
   "source": [
    "Dieser Abschnitt wird hilfreich sein, wenn in dem Versuch Dalitz Plots erstellt werden müssen.\n",
    "\n",
    "Es soll betrachtet werden, in welchem Alter Personen einen Nobelpreis erhalten haben, und die Spanne des Alters gemessen werden.\n",
    "\n",
    "Darauf kann untersucht werden, ob mit der Zeit das Alter in dem ein Nobelpreis erhalten wird ab oder zunimmt.\n",
    "\n",
    "Dazu muss zunächst das Alterberechnet werden, in dem die Preisträger ausgezeichnet worden sind. Dazu können die Spalten `year` und `birthdate`kombiniert werden um den Daten die variable `AgeAwarded` hinzuzufügen."
   ]
  },
  {
   "cell_type": "code",
   "execution_count": 11,
   "metadata": {},
   "outputs": [
    {
     "data": {
      "text/html": [
       "<div>\n",
       "<style scoped>\n",
       "    .dataframe tbody tr th:only-of-type {\n",
       "        vertical-align: middle;\n",
       "    }\n",
       "\n",
       "    .dataframe tbody tr th {\n",
       "        vertical-align: top;\n",
       "    }\n",
       "\n",
       "    .dataframe thead th {\n",
       "        text-align: right;\n",
       "    }\n",
       "</style>\n",
       "<table border=\"1\" class=\"dataframe\">\n",
       "  <thead>\n",
       "    <tr style=\"text-align: right;\">\n",
       "      <th></th>\n",
       "      <th>Year</th>\n",
       "      <th>Category</th>\n",
       "      <th>Name</th>\n",
       "      <th>Birthdate</th>\n",
       "      <th>Birth Place</th>\n",
       "      <th>County</th>\n",
       "      <th>Residence</th>\n",
       "      <th>Role/Affiliate</th>\n",
       "      <th>Field/Language</th>\n",
       "      <th>Prize Name</th>\n",
       "      <th>Motivation</th>\n",
       "      <th>BirthYear</th>\n",
       "      <th>AgeAwarded</th>\n",
       "    </tr>\n",
       "  </thead>\n",
       "  <tbody>\n",
       "    <tr>\n",
       "      <th>5</th>\n",
       "      <td>1901</td>\n",
       "      <td>physics</td>\n",
       "      <td>Wilhelm Conrad Röntgen</td>\n",
       "      <td>27 March 1845</td>\n",
       "      <td>Lennep (now Remscheid)</td>\n",
       "      <td>Prussia (now Germany)</td>\n",
       "      <td>No Data</td>\n",
       "      <td>Munich University, Munich, Germany</td>\n",
       "      <td>X-rays, atomic physics</td>\n",
       "      <td>The Nobel Prize in Physics</td>\n",
       "      <td>The Nobel Prize in Physics 1901 was awarded to...</td>\n",
       "      <td>1845</td>\n",
       "      <td>56</td>\n",
       "    </tr>\n",
       "    <tr>\n",
       "      <th>11</th>\n",
       "      <td>1902</td>\n",
       "      <td>physics</td>\n",
       "      <td>Hendrik Antoon Lorentz</td>\n",
       "      <td>18 July 1853</td>\n",
       "      <td>Arnhem</td>\n",
       "      <td>the Netherlands</td>\n",
       "      <td>No Data</td>\n",
       "      <td>Leiden University, Leiden, the Netherlands</td>\n",
       "      <td>Atomic physics, quantum physics</td>\n",
       "      <td>The Nobel Prize in Physics</td>\n",
       "      <td>The Nobel Prize in Physics 1902 was awarded jo...</td>\n",
       "      <td>1853</td>\n",
       "      <td>49</td>\n",
       "    </tr>\n",
       "    <tr>\n",
       "      <th>12</th>\n",
       "      <td>1902</td>\n",
       "      <td>physics</td>\n",
       "      <td>Pieter Zeeman</td>\n",
       "      <td>25 May 1865</td>\n",
       "      <td>Zonnemaire</td>\n",
       "      <td>the Netherlands</td>\n",
       "      <td>No Data</td>\n",
       "      <td>Amsterdam University, Amsterdam, the Netherlands</td>\n",
       "      <td>Atomic physics, quantum physics</td>\n",
       "      <td>The Nobel Prize in Physics</td>\n",
       "      <td>The Nobel Prize in Physics 1902 was awarded jo...</td>\n",
       "      <td>1865</td>\n",
       "      <td>37</td>\n",
       "    </tr>\n",
       "    <tr>\n",
       "      <th>17</th>\n",
       "      <td>1903</td>\n",
       "      <td>physics</td>\n",
       "      <td>Antoine Henri Becquerel</td>\n",
       "      <td>15 December 1852</td>\n",
       "      <td>Paris</td>\n",
       "      <td>France</td>\n",
       "      <td>No Data</td>\n",
       "      <td>école Polytechnique, Paris, France</td>\n",
       "      <td>Nuclear physics</td>\n",
       "      <td>The Nobel Prize in Physics</td>\n",
       "      <td>The Nobel Prize in Physics 1903 was divided, o...</td>\n",
       "      <td>1852</td>\n",
       "      <td>51</td>\n",
       "    </tr>\n",
       "    <tr>\n",
       "      <th>18</th>\n",
       "      <td>1903</td>\n",
       "      <td>physics</td>\n",
       "      <td>Marie Curie, née Sklodowska</td>\n",
       "      <td>7 November 1867</td>\n",
       "      <td>Warsaw</td>\n",
       "      <td>Russian Empire (now Poland)</td>\n",
       "      <td>No Data</td>\n",
       "      <td>NaN</td>\n",
       "      <td>Nuclear physics</td>\n",
       "      <td>The Nobel Prize in Physics</td>\n",
       "      <td>The Nobel Prize in Physics 1903 was divided, o...</td>\n",
       "      <td>1867</td>\n",
       "      <td>36</td>\n",
       "    </tr>\n",
       "  </tbody>\n",
       "</table>\n",
       "</div>"
      ],
      "text/plain": [
       "    Year Category                         Name         Birthdate  \\\n",
       "5   1901  physics       Wilhelm Conrad Röntgen     27 March 1845   \n",
       "11  1902  physics       Hendrik Antoon Lorentz      18 July 1853   \n",
       "12  1902  physics                Pieter Zeeman       25 May 1865   \n",
       "17  1903  physics      Antoine Henri Becquerel  15 December 1852   \n",
       "18  1903  physics  Marie Curie, née Sklodowska   7 November 1867   \n",
       "\n",
       "               Birth Place                       County Residence  \\\n",
       "5   Lennep (now Remscheid)        Prussia (now Germany)   No Data   \n",
       "11                  Arnhem              the Netherlands   No Data   \n",
       "12              Zonnemaire              the Netherlands   No Data   \n",
       "17                   Paris                       France   No Data   \n",
       "18                  Warsaw  Russian Empire (now Poland)   No Data   \n",
       "\n",
       "                                       Role/Affiliate  \\\n",
       "5                  Munich University, Munich, Germany   \n",
       "11         Leiden University, Leiden, the Netherlands   \n",
       "12   Amsterdam University, Amsterdam, the Netherlands   \n",
       "17                 école Polytechnique, Paris, France   \n",
       "18                                                NaN   \n",
       "\n",
       "                      Field/Language                  Prize Name  \\\n",
       "5             X-rays, atomic physics  The Nobel Prize in Physics   \n",
       "11   Atomic physics, quantum physics  The Nobel Prize in Physics   \n",
       "12   Atomic physics, quantum physics  The Nobel Prize in Physics   \n",
       "17                   Nuclear physics  The Nobel Prize in Physics   \n",
       "18                   Nuclear physics  The Nobel Prize in Physics   \n",
       "\n",
       "                                           Motivation  BirthYear  AgeAwarded  \n",
       "5   The Nobel Prize in Physics 1901 was awarded to...       1845          56  \n",
       "11  The Nobel Prize in Physics 1902 was awarded jo...       1853          49  \n",
       "12  The Nobel Prize in Physics 1902 was awarded jo...       1865          37  \n",
       "17  The Nobel Prize in Physics 1903 was divided, o...       1852          51  \n",
       "18  The Nobel Prize in Physics 1903 was divided, o...       1867          36  "
      ]
     },
     "execution_count": 11,
     "metadata": {},
     "output_type": "execute_result"
    }
   ],
   "source": [
    "# Create new variable in the dataframe\n",
    "physicsOnlyDataFrame['AgeAwarded'] = physicsOnlyDataFrame.Year - physicsOnlyDataFrame.BirthYear\n",
    "physicsOnlyDataFrame.head(5)"
   ]
  },
  {
   "cell_type": "markdown",
   "metadata": {},
   "source": [
    "Jetzt kann ein Histogramm mit dem Alter, in dem die Preisträger ausgezeichnet worden sind , erstellt werden."
   ]
  },
  {
   "cell_type": "code",
   "execution_count": 12,
   "metadata": {
    "scrolled": true
   },
   "outputs": [
    {
     "data": {
      "image/png": "[encoded data removed]",
      "text/plain": [
       "<Figure size 432x288 with 1 Axes>"
      ]
     },
     "metadata": {
      "needs_background": "light"
     },
     "output_type": "display_data"
    }
   ],
   "source": [
    "# plot a histogram of the laureates ages\n",
    "H_AgeAwarded = physicsOnlyDataFrame.AgeAwarded.hist(bins=15)"
   ]
  },
  {
   "cell_type": "markdown",
   "metadata": {
    "collapsed": true
   },
   "source": [
    "### Berechnungen machen"
   ]
  },
  {
   "cell_type": "markdown",
   "metadata": {},
   "source": [
    "Jetzt soll die Spanne des Alters der Gewinner bestimmt werden. Dazu wird die Satndardabweichung berechnet."
   ]
  },
  {
   "cell_type": "code",
   "execution_count": 13,
   "metadata": {},
   "outputs": [
    {
     "name": "stdout",
     "output_type": "stream",
     "text": [
      "13.314524371459262\n"
     ]
    }
   ],
   "source": [
    "# count number of entries\n",
    "NumEntries = len(physicsOnlyDataFrame)\n",
    "# calculate square of ages\n",
    "physicsOnlyDataFrame['AgeAwardedSquared'] = physicsOnlyDataFrame.AgeAwarded**2\n",
    "# calculate sum of square of ages, and sum of ages\n",
    "AgeSqSum = physicsOnlyDataFrame['AgeAwardedSquared'].sum()\n",
    "AgeSum = physicsOnlyDataFrame['AgeAwarded'].sum()\n",
    "# calculate std and print it\n",
    "std = sqrt((AgeSqSum-(AgeSum**2/NumEntries)) / NumEntries)\n",
    "print(std)"
   ]
  },
  {
   "cell_type": "markdown",
   "metadata": {},
   "source": [
    "Es gibt tatsächlich auch eine Funktion, die diese Fingerübung komplett übernimmt."
   ]
  },
  {
   "cell_type": "code",
   "execution_count": 14,
   "metadata": {},
   "outputs": [
    {
     "name": "stdout",
     "output_type": "stream",
     "text": [
      "13.350268125361112\n"
     ]
    }
   ],
   "source": [
    "# calculate standard deviation (rms) of distribution\n",
    "print(physicsOnlyDataFrame['AgeAwarded'].std())"
   ]
  },
  {
   "cell_type": "markdown",
   "metadata": {
    "collapsed": true
   },
   "source": [
    "### Scatter Plot"
   ]
  },
  {
   "cell_type": "markdown",
   "metadata": {},
   "source": [
    "Jetzt soll mit einem Scatter Plot das Alter der Preisträger gegen das Jahr , in dem der Preis verliehen worden ist, geplottet werden."
   ]
  },
  {
   "cell_type": "code",
   "execution_count": 15,
   "metadata": {},
   "outputs": [
    {
     "data": {
      "text/plain": [
       "Text(0, 0.5, 'Age Awarded')"
      ]
     },
     "execution_count": 15,
     "metadata": {},
     "output_type": "execute_result"
    },
    {
     "data": {
      "image/png": "[encoded data removed]",
      "text/plain": [
       "<Figure size 432x288 with 1 Axes>"
      ]
     },
     "metadata": {
      "needs_background": "light"
     },
     "output_type": "display_data"
    }
   ],
   "source": [
    "scatter(physicsOnlyDataFrame['Year'], physicsOnlyDataFrame['AgeAwarded'])\n",
    "plt.xlim(1900, 2010) # change the x axis range\n",
    "plt.ylim(20, 100)  # change the y axis range\n",
    "xlabel('Year Awarded')\n",
    "ylabel('Age Awarded')"
   ]
  },
  {
   "cell_type": "markdown",
   "metadata": {
    "collapsed": true
   },
   "source": [
    "### 2D Histogramm"
   ]
  },
  {
   "cell_type": "markdown",
   "metadata": {},
   "source": [
    "Es kann auch ein 2D Histogramm erstellt werden, in dem das Ergebnis gebinnt wird. Das die Zahl der Einträge in den Daten recht gering sind, sollten Bins in einer angemessenen Größe verwendet werden, sodass jeder Bin noch eine akzeptabele Statistik enthält. Dabei muss beachtet werden, dass die Gesamtanzahl an Bins das Quadrat der Bins der einzelnen Achsen ist, welche der Funktion übergeben wird."
   ]
  },
  {
   "cell_type": "code",
   "execution_count": 16,
   "metadata": {},
   "outputs": [
    {
     "data": {
      "text/plain": [
       "Text(0, 0.5, 'Age Awarded')"
      ]
     },
     "execution_count": 16,
     "metadata": {},
     "output_type": "execute_result"
    },
    {
     "data": {
      "image/png": "[encoded data removed]",
      "text/plain": [
       "<Figure size 432x288 with 2 Axes>"
      ]
     },
     "metadata": {
      "needs_background": "light"
     },
     "output_type": "display_data"
    }
   ],
   "source": [
    "hist2d(physicsOnlyDataFrame.Year, physicsOnlyDataFrame.AgeAwarded, bins=10)\n",
    "colorbar() # Add a colour legend\n",
    "xlabel('Year Awarded')\n",
    "ylabel('Age Awarded')"
   ]
  },
  {
   "cell_type": "code",
   "execution_count": 17,
   "metadata": {},
   "outputs": [
    {
     "data": {
      "image/png": "[encoded data removed]",
      "text/plain": [
       "<Figure size 432x288 with 2 Axes>"
      ]
     },
     "metadata": {
      "needs_background": "light"
     },
     "output_type": "display_data"
    },
    {
     "data": {
      "text/plain": [
       "<function __main__.plot_histogram(bins)>"
      ]
     },
     "execution_count": 17,
     "metadata": {},
     "output_type": "execute_result"
    }
   ],
   "source": [
    "def plot_histogram(bins):\n",
    "    hist2d(physicsOnlyDataFrame['Year'].values,physicsOnlyDataFrame['AgeAwarded'].values, bins=bins)\n",
    "    colorbar() #Set a colour legend\n",
    "    xlabel('Year Awarded')\n",
    "    ylabel('Age Awarded')\n",
    "    \n",
    "interact(plot_histogram, bins=[10, 20, 1])  # Creates the slider"
   ]
  },
  {
   "cell_type": "markdown",
   "metadata": {},
   "source": [
    "Die dunkleren Bins in der oberen rechten Ecke zeigen, dass es einen Trend gibt, dass in letzter Zeit Nobelpreise häufig an Personen im höhreren Alter vergeben wurden."
   ]
  },
  {
   "cell_type": "markdown",
   "metadata": {},
   "source": [
    "### Verarbeiten von 2D Histogrammen\n",
    "\n",
    "**Dieser Teil ist recht fortgeschritten und wird lediglich für den letzten Teil des Versuchs benötigt.**"
   ]
  },
  {
   "cell_type": "markdown",
   "metadata": {},
   "source": [
    "Da in dem Versuch die Berechnung der Asymmetrie auf dem 2D Histogramm benötigt wird, wird hier das entsprechende Vorgehen beispielhaft durchgeführt. Es ist sinnvoll sich mit dem Folgenden auseinander zu setzen, wenn ihr die Bestimmung der lokaler Materie-Antimaterie Unterschiede in dem versuch erreicht habt."
   ]
  },
  {
   "cell_type": "markdown",
   "metadata": {},
   "source": [
    "Als erstes wird die Zahl der Einträge in jedem Bin des 2D Histogramms bestimmt und in `physics_counts`als 2D Array abgelegt.\n",
    "\n",
    "`xedges` und `yedges` sind 1D Arrays, die Position der Bin-Grenzen entlang der Achsen enthält."
   ]
  },
  {
   "cell_type": "code",
   "execution_count": 18,
   "metadata": {},
   "outputs": [
    {
     "data": {
      "text/plain": [
       "Text(0, 0.5, 'Age Awarded')"
      ]
     },
     "execution_count": 18,
     "metadata": {},
     "output_type": "execute_result"
    },
    {
     "data": {
      "image/png": "[encoded data removed]",
      "text/plain": [
       "<Figure size 432x288 with 2 Axes>"
      ]
     },
     "metadata": {
      "needs_background": "light"
     },
     "output_type": "display_data"
    }
   ],
   "source": [
    "physics_counts, xedges, yedges, Image = hist2d(\n",
    "    physicsOnlyDataFrame.Year, physicsOnlyDataFrame.AgeAwarded,\n",
    "    bins=10, range=[(1900, 2010), (20, 100)]\n",
    ")\n",
    "colorbar() # Add a colour legend\n",
    "xlabel('Year Awarded')\n",
    "ylabel('Age Awarded')"
   ]
  },
  {
   "cell_type": "markdown",
   "metadata": {},
   "source": [
    "Jetzt wird diese Prozedur wiederholt um das entsprechende Histogramm auch für die Chemie Nobelpreise zu erhalten."
   ]
  },
  {
   "cell_type": "code",
   "execution_count": 19,
   "metadata": {
    "collapsed": true
   },
   "outputs": [],
   "source": [
    "# Make the \"chemistryOnlyDataFrame\" dataset\n",
    "chemistryOnlyDataFrame = data.query(\"(Category == 'chemistry')\")\n",
    "chemistryOnlyDataFrame['AgeAwarded'] = chemistryOnlyDataFrame.Year - chemistryOnlyDataFrame.BirthYear"
   ]
  },
  {
   "cell_type": "code",
   "execution_count": 20,
   "metadata": {},
   "outputs": [
    {
     "data": {
      "text/plain": [
       "Text(0, 0.5, 'Age Awarded')"
      ]
     },
     "execution_count": 20,
     "metadata": {},
     "output_type": "execute_result"
    },
    {
     "data": {
      "image/png": "[encoded data removed]",
      "text/plain": [
       "<Figure size 432x288 with 2 Axes>"
      ]
     },
     "metadata": {
      "needs_background": "light"
     },
     "output_type": "display_data"
    }
   ],
   "source": [
    "# Plot the histogram\n",
    "chemistry_counts, xedges, yedges, Image = hist2d(\n",
    "    chemistryOnlyDataFrame.Year, chemistryOnlyDataFrame.AgeAwarded,\n",
    "    bins=10, range=[(1900, 2010), (20, 100)]\n",
    ")\n",
    "colorbar() # Add a colour legend\n",
    "xlabel('Year Awarded')\n",
    "ylabel('Age Awarded')"
   ]
  },
  {
   "cell_type": "markdown",
   "metadata": {},
   "source": [
    "Die `chemistry_counts` werden von den `physics_counts` subtrahiert und mit ihrer Summe normalisiert. Dies ist als Asymmetrie bekannt."
   ]
  },
  {
   "cell_type": "code",
   "execution_count": 21,
   "metadata": {
    "collapsed": true
   },
   "outputs": [],
   "source": [
    "counts = (physics_counts - chemistry_counts) / (physics_counts + chemistry_counts)"
   ]
  },
  {
   "cell_type": "markdown",
   "metadata": {},
   "source": [
    "In den Bereichen in denen in keinem der Bereiche ein Preisträger liegt, wird der Wert `nan`annehmen, da durch 0 geteilt wird. Diese Werte sollen nun durch 0 ersetzt werden."
   ]
  },
  {
   "cell_type": "code",
   "execution_count": 22,
   "metadata": {
    "collapsed": true
   },
   "outputs": [],
   "source": [
    "counts[np.isnan(counts)] = 0"
   ]
  },
  {
   "cell_type": "markdown",
   "metadata": {},
   "source": [
    "Letztlich wird die Asymmetrie mit der `pcolor` function geplottet. Da negative und positive Werte unterschiedliche Bedeutungen haben, wird hier die `seismic` Colormap verwendet. [Hier](http://matplotlib.org/examples/color/colormaps_reference.html) kann eine Liste aller möglichen Colormaps gefunden werden."
   ]
  },
  {
   "cell_type": "code",
   "execution_count": 23,
   "metadata": {},
   "outputs": [
    {
     "data": {
      "text/plain": [
       "<matplotlib.colorbar.Colorbar at 0x7fbb582f90f0>"
      ]
     },
     "execution_count": 23,
     "metadata": {},
     "output_type": "execute_result"
    },
    {
     "data": {
      "image/png": "[encoded data removed]",
      "text/plain": [
       "<Figure size 432x288 with 2 Axes>"
      ]
     },
     "metadata": {
      "needs_background": "light"
     },
     "output_type": "display_data"
    }
   ],
   "source": [
    "pcolor(xedges, yedges, counts.T, cmap='seismic')\n",
    "colorbar()"
   ]
  },
  {
   "cell_type": "code",
   "execution_count": null,
   "metadata": {
    "collapsed": true
   },
   "outputs": [],
   "source": []
  }
 ],
 "metadata": {
  "kernelspec": {
   "display_name": "Python 3",
   "language": "python",
   "name": "python3"
  },
  "language_info": {
   "codemirror_mode": {
    "name": "ipython",
    "version": 3
   },
   "file_extension": ".py",
   "mimetype": "text/x-python",
   "name": "python",
   "nbconvert_exporter": "python",
   "pygments_lexer": "ipython3",
   "version": "3.8.8"
  },
  "toc": {
   "toc_cell": false,
   "toc_number_sections": true,
   "toc_threshold": 6,
   "toc_window_display": false
  },
  "widgets": {
   "state": {
    "129bb20650fb49049f864c998dc56b25": {
     "views": []
    },
    "46d3181e42b543efb0bdd3a3f1c52b7a": {
     "views": []
    },
    "4704bc7c755b4c85bec7286a1e0985a0": {
     "views": []
    },
    "4bd3070195244030a36eb86438046b7e": {
     "views": [
      {
       "cell_index": 15
      }
     ]
    },
    "747317b98f5840edb4ea9f976bff9e06": {
     "views": []
    },
    "92adeeeb545a43d1a2480125b74baca9": {
     "views": [
      {
       "cell_index": 42
      }
     ]
    },
    "c13bc31601844785a5b5dcf8d810fc7b": {
     "views": []
    },
    "ca5a86aabd694b779fdbfe274d6af91b": {
     "views": []
    }
   },
   "version": "1.1.2"
  }
 },
 "nbformat": 4,
 "nbformat_minor": 1
}
